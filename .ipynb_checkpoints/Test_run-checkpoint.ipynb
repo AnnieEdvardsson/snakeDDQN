{
 "cells": [
  {
   "cell_type": "code",
   "execution_count": null,
   "metadata": {},
   "outputs": [
    {
     "name": "stdout",
     "output_type": "stream",
     "text": [
      "pygame 1.9.4\n",
      "Hello from the pygame community. https://www.pygame.org/contribute.html\n"
     ]
    },
    {
     "name": "stderr",
     "output_type": "stream",
     "text": [
      "Using TensorFlow backend.\n"
     ]
    },
    {
     "name": "stdout",
     "output_type": "stream",
     "text": [
      "WARNING:tensorflow:From /Users/mtrieu/anaconda3/envs/dml/lib/python3.6/site-packages/keras/backend/tensorflow_backend.py:1188: calling reduce_sum (from tensorflow.python.ops.math_ops) with keep_dims is deprecated and will be removed in a future version.\n",
      "Instructions for updating:\n",
      "keep_dims is deprecated, use keepdims instead\n",
      "WARNING:tensorflow:From /Users/mtrieu/anaconda3/envs/dml/lib/python3.6/site-packages/keras/backend/tensorflow_backend.py:1290: calling reduce_mean (from tensorflow.python.ops.math_ops) with keep_dims is deprecated and will be removed in a future version.\n",
      "Instructions for updating:\n",
      "keep_dims is deprecated, use keepdims instead\n",
      "Game 1       Score: 1\n",
      "Game 2       Score: 0\n",
      "Game 3       Score: 1\n",
      "Game 4       Score: 0\n",
      "Game 5       Score: 0\n",
      "Game 6       Score: 1\n",
      "Game 7       Score: 0\n",
      "Game 8       Score: 0\n",
      "Game 9       Score: 0\n",
      "Game 10       Score: 0\n",
      "Game 11       Score: 0\n",
      "Game 12       Score: 0\n",
      "Game 13       Score: 2\n",
      "Game 14       Score: 0\n",
      "Game 15       Score: 0\n",
      "Game 16       Score: 0\n",
      "Game 17       Score: 0\n",
      "Game 18       Score: 0\n",
      "Game 19       Score: 1\n",
      "Game 20       Score: 1\n",
      "Game 21       Score: 0\n",
      "Game 22       Score: 0\n",
      "Game 23       Score: 1\n",
      "Game 24       Score: 1\n",
      "Game 25       Score: 0\n",
      "Game 26       Score: 0\n",
      "Game 27       Score: 0\n",
      "Game 28       Score: 1\n",
      "Game 29       Score: 0\n",
      "Game 30       Score: 0\n",
      "Game 31       Score: 0\n",
      "Game 32       Score: 0\n",
      "Game 33       Score: 0\n",
      "Game 34       Score: 0\n",
      "Game 35       Score: 0\n",
      "Game 36       Score: 0\n",
      "Game 37       Score: 0\n",
      "Game 38       Score: 0\n"
     ]
    }
   ],
   "source": [
    "import snakeClass"
   ]
  },
  {
   "cell_type": "code",
   "execution_count": 1,
   "metadata": {},
   "outputs": [
    {
     "data": {
      "text/plain": [
       "'1.9.0'"
      ]
     },
     "execution_count": 1,
     "metadata": {},
     "output_type": "execute_result"
    }
   ],
   "source": [
    "import tensorflow as tf\n",
    "tf.VERSION"
   ]
  },
  {
   "cell_type": "code",
   "execution_count": null,
   "metadata": {},
   "outputs": [],
   "source": []
  }
 ],
 "metadata": {
  "kernelspec": {
   "display_name": "Python 3",
   "language": "python",
   "name": "python3"
  },
  "language_info": {
   "codemirror_mode": {
    "name": "ipython",
    "version": 3
   },
   "file_extension": ".py",
   "mimetype": "text/x-python",
   "name": "python",
   "nbconvert_exporter": "python",
   "pygments_lexer": "ipython3",
   "version": "3.6.6"
  }
 },
 "nbformat": 4,
 "nbformat_minor": 2
}
