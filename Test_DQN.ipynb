{
 "cells": [
  {
   "cell_type": "code",
   "execution_count": 1,
   "metadata": {},
   "outputs": [
    {
     "name": "stderr",
     "output_type": "stream",
     "text": [
      "Using TensorFlow backend.\n"
     ]
    },
    {
     "name": "stdout",
     "output_type": "stream",
     "text": [
      "pygame 1.9.4\n",
      "Hello from the pygame community. https://www.pygame.org/contribute.html\n"
     ]
    }
   ],
   "source": [
    "import os\n",
    "os.environ[\"SDL_VIDEODRIVER\"] = \"dummy\"\n",
    "from DQN import DDQNAgent, DQNAgent\n",
    "from snakeClass import run, evaluate_network"
   ]
  },
  {
   "cell_type": "code",
   "execution_count": 2,
   "metadata": {},
   "outputs": [
    {
     "name": "stdout",
     "output_type": "stream",
     "text": [
      "Game 1      Score: 0      Epsilon: 0.7995    Highest: 0\n",
      "Game 2      Score: 1      Epsilon: 0.7990    Highest: 1\n",
      "Game 3      Score: 1      Epsilon: 0.7985    Highest: 1\n",
      "Game 4      Score: 0      Epsilon: 0.7980    Highest: 1\n",
      "Game 5      Score: 1      Epsilon: 0.7975    Highest: 1\n",
      "Game 6      Score: 1      Epsilon: 0.7970    Highest: 1\n",
      "Game 7      Score: 1      Epsilon: 0.7965    Highest: 1\n",
      "Game 8      Score: 1      Epsilon: 0.7960    Highest: 1\n",
      "Game 9      Score: 0      Epsilon: 0.7955    Highest: 1\n",
      "Game 10      Score: 0      Epsilon: 0.7950    Highest: 1\n",
      "Game 11      Score: 0      Epsilon: 0.7945    Highest: 1\n",
      "Game 12      Score: 0      Epsilon: 0.7940    Highest: 1\n",
      "Game 13      Score: 0      Epsilon: 0.7935    Highest: 1\n",
      "Game 14      Score: 1      Epsilon: 0.7930    Highest: 1\n",
      "Game 15      Score: 0      Epsilon: 0.7925    Highest: 1\n",
      "Game 16      Score: 0      Epsilon: 0.7920    Highest: 1\n",
      "Game 17      Score: 1      Epsilon: 0.7915    Highest: 1\n",
      "Game 18      Score: 0      Epsilon: 0.7910    Highest: 1\n",
      "Game 19      Score: 1      Epsilon: 0.7905    Highest: 1\n",
      "Game 20      Score: 0      Epsilon: 0.7900    Highest: 1\n",
      "Game 21      Score: 0      Epsilon: 0.7895    Highest: 1\n",
      "Game 22      Score: 1      Epsilon: 0.7890    Highest: 1\n",
      "Game 23      Score: 0      Epsilon: 0.7885    Highest: 1\n",
      "Game 24      Score: 0      Epsilon: 0.7880    Highest: 1\n",
      "Game 25      Score: 0      Epsilon: 0.7875    Highest: 1\n",
      "Game 26      Score: 1      Epsilon: 0.7870    Highest: 1\n",
      "Game 27      Score: 0      Epsilon: 0.7865    Highest: 1\n",
      "Game 28      Score: 1      Epsilon: 0.7860    Highest: 1\n",
      "Game 29      Score: 1      Epsilon: 0.7855    Highest: 1\n",
      "Game 30      Score: 1      Epsilon: 0.7850    Highest: 1\n",
      "Game 31      Score: 0      Epsilon: 0.7845    Highest: 1\n",
      "Game 32      Score: 0      Epsilon: 0.7840    Highest: 1\n",
      "Game 33      Score: 1      Epsilon: 0.7835    Highest: 1\n",
      "Game 34      Score: 1      Epsilon: 0.7830    Highest: 1\n",
      "Game 35      Score: 0      Epsilon: 0.7825    Highest: 1\n",
      "Game 36      Score: 1      Epsilon: 0.7820    Highest: 1\n",
      "Game 37      Score: 1      Epsilon: 0.7815    Highest: 1\n",
      "Game 38      Score: 1      Epsilon: 0.7810    Highest: 1\n",
      "Game 39      Score: 1      Epsilon: 0.7805    Highest: 1\n",
      "Game 40      Score: 0      Epsilon: 0.7800    Highest: 1\n",
      "Game 41      Score: 1      Epsilon: 0.7795    Highest: 1\n",
      "Game 42      Score: 1      Epsilon: 0.7790    Highest: 1\n",
      "Game 43      Score: 1      Epsilon: 0.7785    Highest: 1\n",
      "Game 44      Score: 1      Epsilon: 0.7780    Highest: 1\n",
      "Game 45      Score: 1      Epsilon: 0.7775    Highest: 1\n",
      "Game 46      Score: 0      Epsilon: 0.7770    Highest: 1\n",
      "Game 47      Score: 1      Epsilon: 0.7765    Highest: 1\n",
      "Game 48      Score: 0      Epsilon: 0.7760    Highest: 1\n",
      "Game 49      Score: 1      Epsilon: 0.7755    Highest: 1\n",
      "Game 50      Score: 1      Epsilon: 0.7750    Highest: 1\n",
      "Game 51      Score: 0      Epsilon: 0.7745    Highest: 1\n"
     ]
    },
    {
     "ename": "KeyboardInterrupt",
     "evalue": "",
     "output_type": "error",
     "traceback": [
      "\u001b[0;31m---------------------------------------------------------------------------\u001b[0m",
      "\u001b[0;31mKeyboardInterrupt\u001b[0m                         Traceback (most recent call last)",
      "\u001b[0;32m<ipython-input-2-49829dcab465>\u001b[0m in \u001b[0;36m<module>\u001b[0;34m()\u001b[0m\n\u001b[1;32m     13\u001b[0m     \u001b[0mname_of_weights_DQN\u001b[0m \u001b[0;34m=\u001b[0m \u001b[0;34m'weights_DQN.h5'\u001b[0m\u001b[0;34m\u001b[0m\u001b[0m\n\u001b[1;32m     14\u001b[0m     \u001b[0mpre_agent\u001b[0m \u001b[0;34m=\u001b[0m \u001b[0mDQNAgent\u001b[0m\u001b[0;34m(\u001b[0m\u001b[0;34m)\u001b[0m\u001b[0;34m\u001b[0m\u001b[0m\n\u001b[0;32m---> 15\u001b[0;31m     \u001b[0maft_agent\u001b[0m\u001b[0;34m,\u001b[0m \u001b[0mcounter_plot\u001b[0m\u001b[0;34m,\u001b[0m \u001b[0mscore_plot\u001b[0m \u001b[0;34m=\u001b[0m \u001b[0mrun\u001b[0m\u001b[0;34m(\u001b[0m\u001b[0mpre_agent\u001b[0m\u001b[0;34m,\u001b[0m \u001b[0mname_of_weights_DQN\u001b[0m\u001b[0;34m)\u001b[0m\u001b[0;34m\u001b[0m\u001b[0m\n\u001b[0m\u001b[1;32m     16\u001b[0m     \u001b[0maft_eval\u001b[0m\u001b[0;34m,\u001b[0m \u001b[0mcounter_plot_eval\u001b[0m\u001b[0;34m,\u001b[0m \u001b[0mscore_plot_eval\u001b[0m \u001b[0;34m=\u001b[0m \u001b[0mevaluate_network\u001b[0m\u001b[0;34m(\u001b[0m\u001b[0maft_agent\u001b[0m\u001b[0;34m,\u001b[0m \u001b[0mname_of_weights_DQN\u001b[0m\u001b[0;34m)\u001b[0m\u001b[0;34m\u001b[0m\u001b[0m\n",
      "\u001b[0;32m~/snakeDDQN/snakeClass.py\u001b[0m in \u001b[0;36mrun\u001b[0;34m(agent, name_weights)\u001b[0m\n\u001b[1;32m    450\u001b[0m \u001b[0;34m\u001b[0m\u001b[0m\n\u001b[1;32m    451\u001b[0m                     \u001b[0;31m# Get q_values for network\u001b[0m\u001b[0;34m\u001b[0m\u001b[0;34m\u001b[0m\u001b[0m\n\u001b[0;32m--> 452\u001b[0;31m                     \u001b[0mq_values\u001b[0m \u001b[0;34m=\u001b[0m \u001b[0magent\u001b[0m\u001b[0;34m.\u001b[0m\u001b[0mget_q_values\u001b[0m\u001b[0;34m(\u001b[0m\u001b[0mnp\u001b[0m\u001b[0;34m.\u001b[0m\u001b[0msqueeze\u001b[0m\u001b[0;34m(\u001b[0m\u001b[0ms_\u001b[0m\u001b[0;34m)\u001b[0m\u001b[0;34m)\u001b[0m\u001b[0;34m\u001b[0m\u001b[0m\n\u001b[0m\u001b[1;32m    453\u001b[0m \u001b[0;34m\u001b[0m\u001b[0m\n\u001b[1;32m    454\u001b[0m                     \u001b[0;31m#print(q_values.shape)\u001b[0m\u001b[0;34m\u001b[0m\u001b[0;34m\u001b[0m\u001b[0m\n",
      "\u001b[0;32m~/snakeDDQN/DQN.py\u001b[0m in \u001b[0;36mget_q_values\u001b[0;34m(self, state)\u001b[0m\n\u001b[1;32m    335\u001b[0m         \u001b[0;34m:\u001b[0m\u001b[0;32mreturn\u001b[0m\u001b[0;34m:\u001b[0m\u001b[0;34m\u001b[0m\u001b[0m\n\u001b[1;32m    336\u001b[0m         '''\n\u001b[0;32m--> 337\u001b[0;31m         \u001b[0;32mreturn\u001b[0m \u001b[0mself\u001b[0m\u001b[0;34m.\u001b[0m\u001b[0mtarget_model\u001b[0m\u001b[0;34m.\u001b[0m\u001b[0mpredict\u001b[0m\u001b[0;34m(\u001b[0m\u001b[0mstate\u001b[0m\u001b[0;34m)\u001b[0m\u001b[0;34m\u001b[0m\u001b[0m\n\u001b[0m\u001b[1;32m    338\u001b[0m \u001b[0;34m\u001b[0m\u001b[0m\n\u001b[1;32m    339\u001b[0m     \u001b[0;34m@\u001b[0m\u001b[0mstaticmethod\u001b[0m\u001b[0;34m\u001b[0m\u001b[0m\n",
      "\u001b[0;32m~/anaconda3/envs/dml_gpu/lib/python3.6/site-packages/keras/engine/training.py\u001b[0m in \u001b[0;36mpredict\u001b[0;34m(self, x, batch_size, verbose, steps)\u001b[0m\n\u001b[1;32m   1165\u001b[0m                                             \u001b[0mbatch_size\u001b[0m\u001b[0;34m=\u001b[0m\u001b[0mbatch_size\u001b[0m\u001b[0;34m,\u001b[0m\u001b[0;34m\u001b[0m\u001b[0m\n\u001b[1;32m   1166\u001b[0m                                             \u001b[0mverbose\u001b[0m\u001b[0;34m=\u001b[0m\u001b[0mverbose\u001b[0m\u001b[0;34m,\u001b[0m\u001b[0;34m\u001b[0m\u001b[0m\n\u001b[0;32m-> 1167\u001b[0;31m                                             steps=steps)\n\u001b[0m\u001b[1;32m   1168\u001b[0m \u001b[0;34m\u001b[0m\u001b[0m\n\u001b[1;32m   1169\u001b[0m     def train_on_batch(self, x, y,\n",
      "\u001b[0;32m~/anaconda3/envs/dml_gpu/lib/python3.6/site-packages/keras/engine/training_arrays.py\u001b[0m in \u001b[0;36mpredict_loop\u001b[0;34m(model, f, ins, batch_size, verbose, steps)\u001b[0m\n\u001b[1;32m    292\u001b[0m                 \u001b[0mins_batch\u001b[0m\u001b[0;34m[\u001b[0m\u001b[0mi\u001b[0m\u001b[0;34m]\u001b[0m \u001b[0;34m=\u001b[0m \u001b[0mins_batch\u001b[0m\u001b[0;34m[\u001b[0m\u001b[0mi\u001b[0m\u001b[0;34m]\u001b[0m\u001b[0;34m.\u001b[0m\u001b[0mtoarray\u001b[0m\u001b[0;34m(\u001b[0m\u001b[0;34m)\u001b[0m\u001b[0;34m\u001b[0m\u001b[0m\n\u001b[1;32m    293\u001b[0m \u001b[0;34m\u001b[0m\u001b[0m\n\u001b[0;32m--> 294\u001b[0;31m             \u001b[0mbatch_outs\u001b[0m \u001b[0;34m=\u001b[0m \u001b[0mf\u001b[0m\u001b[0;34m(\u001b[0m\u001b[0mins_batch\u001b[0m\u001b[0;34m)\u001b[0m\u001b[0;34m\u001b[0m\u001b[0m\n\u001b[0m\u001b[1;32m    295\u001b[0m             \u001b[0mbatch_outs\u001b[0m \u001b[0;34m=\u001b[0m \u001b[0mto_list\u001b[0m\u001b[0;34m(\u001b[0m\u001b[0mbatch_outs\u001b[0m\u001b[0;34m)\u001b[0m\u001b[0;34m\u001b[0m\u001b[0m\n\u001b[1;32m    296\u001b[0m             \u001b[0;32mif\u001b[0m \u001b[0mbatch_index\u001b[0m \u001b[0;34m==\u001b[0m \u001b[0;36m0\u001b[0m\u001b[0;34m:\u001b[0m\u001b[0;34m\u001b[0m\u001b[0m\n",
      "\u001b[0;32m~/anaconda3/envs/dml_gpu/lib/python3.6/site-packages/keras/backend/tensorflow_backend.py\u001b[0m in \u001b[0;36m__call__\u001b[0;34m(self, inputs)\u001b[0m\n\u001b[1;32m   2664\u001b[0m                 \u001b[0;32mreturn\u001b[0m \u001b[0mself\u001b[0m\u001b[0;34m.\u001b[0m\u001b[0m_legacy_call\u001b[0m\u001b[0;34m(\u001b[0m\u001b[0minputs\u001b[0m\u001b[0;34m)\u001b[0m\u001b[0;34m\u001b[0m\u001b[0m\n\u001b[1;32m   2665\u001b[0m \u001b[0;34m\u001b[0m\u001b[0m\n\u001b[0;32m-> 2666\u001b[0;31m             \u001b[0;32mreturn\u001b[0m \u001b[0mself\u001b[0m\u001b[0;34m.\u001b[0m\u001b[0m_call\u001b[0m\u001b[0;34m(\u001b[0m\u001b[0minputs\u001b[0m\u001b[0;34m)\u001b[0m\u001b[0;34m\u001b[0m\u001b[0m\n\u001b[0m\u001b[1;32m   2667\u001b[0m         \u001b[0;32melse\u001b[0m\u001b[0;34m:\u001b[0m\u001b[0;34m\u001b[0m\u001b[0m\n\u001b[1;32m   2668\u001b[0m             \u001b[0;32mif\u001b[0m \u001b[0mpy_any\u001b[0m\u001b[0;34m(\u001b[0m\u001b[0mis_tensor\u001b[0m\u001b[0;34m(\u001b[0m\u001b[0mx\u001b[0m\u001b[0;34m)\u001b[0m \u001b[0;32mfor\u001b[0m \u001b[0mx\u001b[0m \u001b[0;32min\u001b[0m \u001b[0minputs\u001b[0m\u001b[0;34m)\u001b[0m\u001b[0;34m:\u001b[0m\u001b[0;34m\u001b[0m\u001b[0m\n",
      "\u001b[0;32m~/anaconda3/envs/dml_gpu/lib/python3.6/site-packages/keras/backend/tensorflow_backend.py\u001b[0m in \u001b[0;36m_call\u001b[0;34m(self, inputs)\u001b[0m\n\u001b[1;32m   2634\u001b[0m                                 \u001b[0msymbol_vals\u001b[0m\u001b[0;34m,\u001b[0m\u001b[0;34m\u001b[0m\u001b[0m\n\u001b[1;32m   2635\u001b[0m                                 session)\n\u001b[0;32m-> 2636\u001b[0;31m         \u001b[0mfetched\u001b[0m \u001b[0;34m=\u001b[0m \u001b[0mself\u001b[0m\u001b[0;34m.\u001b[0m\u001b[0m_callable_fn\u001b[0m\u001b[0;34m(\u001b[0m\u001b[0;34m*\u001b[0m\u001b[0marray_vals\u001b[0m\u001b[0;34m)\u001b[0m\u001b[0;34m\u001b[0m\u001b[0m\n\u001b[0m\u001b[1;32m   2637\u001b[0m         \u001b[0;32mreturn\u001b[0m \u001b[0mfetched\u001b[0m\u001b[0;34m[\u001b[0m\u001b[0;34m:\u001b[0m\u001b[0mlen\u001b[0m\u001b[0;34m(\u001b[0m\u001b[0mself\u001b[0m\u001b[0;34m.\u001b[0m\u001b[0moutputs\u001b[0m\u001b[0;34m)\u001b[0m\u001b[0;34m]\u001b[0m\u001b[0;34m\u001b[0m\u001b[0m\n\u001b[1;32m   2638\u001b[0m \u001b[0;34m\u001b[0m\u001b[0m\n",
      "\u001b[0;32m~/anaconda3/envs/dml_gpu/lib/python3.6/site-packages/tensorflow/python/client/session.py\u001b[0m in \u001b[0;36m__call__\u001b[0;34m(self, *args, **kwargs)\u001b[0m\n\u001b[1;32m   1380\u001b[0m           ret = tf_session.TF_SessionRunCallable(\n\u001b[1;32m   1381\u001b[0m               \u001b[0mself\u001b[0m\u001b[0;34m.\u001b[0m\u001b[0m_session\u001b[0m\u001b[0;34m.\u001b[0m\u001b[0m_session\u001b[0m\u001b[0;34m,\u001b[0m \u001b[0mself\u001b[0m\u001b[0;34m.\u001b[0m\u001b[0m_handle\u001b[0m\u001b[0;34m,\u001b[0m \u001b[0margs\u001b[0m\u001b[0;34m,\u001b[0m \u001b[0mstatus\u001b[0m\u001b[0;34m,\u001b[0m\u001b[0;34m\u001b[0m\u001b[0m\n\u001b[0;32m-> 1382\u001b[0;31m               run_metadata_ptr)\n\u001b[0m\u001b[1;32m   1383\u001b[0m         \u001b[0;32mif\u001b[0m \u001b[0mrun_metadata\u001b[0m\u001b[0;34m:\u001b[0m\u001b[0;34m\u001b[0m\u001b[0m\n\u001b[1;32m   1384\u001b[0m           \u001b[0mproto_data\u001b[0m \u001b[0;34m=\u001b[0m \u001b[0mtf_session\u001b[0m\u001b[0;34m.\u001b[0m\u001b[0mTF_GetBuffer\u001b[0m\u001b[0;34m(\u001b[0m\u001b[0mrun_metadata_ptr\u001b[0m\u001b[0;34m)\u001b[0m\u001b[0;34m\u001b[0m\u001b[0m\n",
      "\u001b[0;31mKeyboardInterrupt\u001b[0m: "
     ]
    }
   ],
   "source": [
    "DDQN = False\n",
    "\n",
    "if DDQN is True:\n",
    "\n",
    "    # Name of weights + Initialize DDQN class + run training + evaluate\n",
    "    name_of_weights_DDQN = 'weights_DDQN.h5'\n",
    "    pre_agent = DDQNAgent()\n",
    "    aft_agent, counter_plot, score_plot = run(pre_agent, name_of_weights_DDQN)\n",
    "    aft_eval, counter_plot_eval, score_plot_eval = evaluate_network(aft_agent, name_of_weights_DDQN)\n",
    "else:\n",
    "\n",
    "    # Name of weights + Initialize DQN target class + run training + evaluate\n",
    "    name_of_weights_DQN = 'weights_DQN.h5'\n",
    "    pre_agent = DQNAgent()\n",
    "    aft_agent, counter_plot, score_plot = run(pre_agent, name_of_weights_DQN)\n",
    "    aft_eval, counter_plot_eval, score_plot_eval = evaluate_network(aft_agent, name_of_weights_DQN)"
   ]
  },
  {
   "cell_type": "code",
   "execution_count": null,
   "metadata": {},
   "outputs": [],
   "source": []
  }
 ],
 "metadata": {
  "kernelspec": {
   "display_name": "Python 3",
   "language": "python",
   "name": "python3"
  },
  "language_info": {
   "codemirror_mode": {
    "name": "ipython",
    "version": 3
   },
   "file_extension": ".py",
   "mimetype": "text/x-python",
   "name": "python",
   "nbconvert_exporter": "python",
   "pygments_lexer": "ipython3",
   "version": "3.6.6"
  }
 },
 "nbformat": 4,
 "nbformat_minor": 2
}
