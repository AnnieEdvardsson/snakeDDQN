{
 "cells": [
  {
   "cell_type": "code",
   "execution_count": 1,
   "metadata": {},
   "outputs": [
    {
     "name": "stderr",
     "output_type": "stream",
     "text": [
      "Using TensorFlow backend.\n"
     ]
    },
    {
     "name": "stdout",
     "output_type": "stream",
     "text": [
      "pygame 1.9.4\n",
      "Hello from the pygame community. https://www.pygame.org/contribute.html\n"
     ]
    }
   ],
   "source": [
    "import os\n",
    "os.environ[\"SDL_VIDEODRIVER\"] = \"dummy\"\n",
    "from DQN import DDQNAgent, DQNAgent\n",
    "from snakeClass import run, evaluate_network"
   ]
  },
  {
   "cell_type": "code",
   "execution_count": null,
   "metadata": {},
   "outputs": [
    {
     "name": "stdout",
     "output_type": "stream",
     "text": [
      "Game 1      Score: 0      Epsilon: 0.7995    Highest: 0\n",
      "Game 2      Score: 0      Epsilon: 0.7990    Highest: 0\n",
      "Game 3      Score: 1      Epsilon: 0.7985    Highest: 1\n",
      "Game 4      Score: 0      Epsilon: 0.7980    Highest: 1\n",
      "Game 5      Score: 0      Epsilon: 0.7975    Highest: 1\n",
      "Game 6      Score: 1      Epsilon: 0.7970    Highest: 1\n",
      "Game 7      Score: 0      Epsilon: 0.7965    Highest: 1\n",
      "Game 8      Score: 0      Epsilon: 0.7960    Highest: 1\n",
      "Game 9      Score: 0      Epsilon: 0.7955    Highest: 1\n",
      "Game 10      Score: 1      Epsilon: 0.7950    Highest: 1\n",
      "Game 11      Score: 0      Epsilon: 0.7945    Highest: 1\n",
      "Game 12      Score: 0      Epsilon: 0.7940    Highest: 1\n",
      "Game 13      Score: 1      Epsilon: 0.7935    Highest: 1\n",
      "Game 14      Score: 0      Epsilon: 0.7930    Highest: 1\n",
      "Game 15      Score: 0      Epsilon: 0.7925    Highest: 1\n",
      "Game 16      Score: 1      Epsilon: 0.7920    Highest: 1\n",
      "Game 17      Score: 1      Epsilon: 0.7915    Highest: 1\n",
      "Game 18      Score: 0      Epsilon: 0.7910    Highest: 1\n",
      "Game 19      Score: 1      Epsilon: 0.7905    Highest: 1\n",
      "Game 20      Score: 0      Epsilon: 0.7900    Highest: 1\n",
      "Game 21      Score: 1      Epsilon: 0.7895    Highest: 1\n",
      "Game 22      Score: 0      Epsilon: 0.7890    Highest: 1\n",
      "Game 23      Score: 0      Epsilon: 0.7885    Highest: 1\n",
      "Game 24      Score: 0      Epsilon: 0.7880    Highest: 1\n",
      "Game 25      Score: 0      Epsilon: 0.7875    Highest: 1\n",
      "Game 26      Score: 2      Epsilon: 0.7870    Highest: 2\n",
      "Game 27      Score: 1      Epsilon: 0.7865    Highest: 2\n",
      "Game 28      Score: 0      Epsilon: 0.7860    Highest: 2\n",
      "Game 29      Score: 1      Epsilon: 0.7855    Highest: 2\n",
      "Game 30      Score: 1      Epsilon: 0.7850    Highest: 2\n",
      "Game 31      Score: 0      Epsilon: 0.7845    Highest: 2\n",
      "Game 32      Score: 0      Epsilon: 0.7840    Highest: 2\n",
      "Game 33      Score: 3      Epsilon: 0.7835    Highest: 3\n",
      "Game 34      Score: 1      Epsilon: 0.7830    Highest: 3\n",
      "Game 35      Score: 1      Epsilon: 0.7825    Highest: 3\n",
      "Game 36      Score: 1      Epsilon: 0.7820    Highest: 3\n",
      "Game 37      Score: 2      Epsilon: 0.7815    Highest: 3\n",
      "Game 38      Score: 0      Epsilon: 0.7810    Highest: 3\n",
      "Game 39      Score: 0      Epsilon: 0.7805    Highest: 3\n",
      "Game 40      Score: 1      Epsilon: 0.7800    Highest: 3\n",
      "Game 41      Score: 0      Epsilon: 0.7795    Highest: 3\n",
      "Game 42      Score: 0      Epsilon: 0.7790    Highest: 3\n",
      "Game 43      Score: 0      Epsilon: 0.7785    Highest: 3\n",
      "Game 44      Score: 1      Epsilon: 0.7780    Highest: 3\n",
      "Game 45      Score: 0      Epsilon: 0.7775    Highest: 3\n",
      "Game 46      Score: 0      Epsilon: 0.7770    Highest: 3\n",
      "Game 47      Score: 2      Epsilon: 0.7765    Highest: 3\n",
      "Game 48      Score: 0      Epsilon: 0.7760    Highest: 3\n",
      "Game 49      Score: 0      Epsilon: 0.7755    Highest: 3\n",
      "Game 50      Score: 2      Epsilon: 0.7750    Highest: 3\n",
      "Game 51      Score: 0      Epsilon: 0.7745    Highest: 3\n",
      "Game 52      Score: 1      Epsilon: 0.7740    Highest: 3\n",
      "Game 53      Score: 0      Epsilon: 0.7735    Highest: 3\n",
      "Game 54      Score: 1      Epsilon: 0.7730    Highest: 3\n",
      "Game 55      Score: 0      Epsilon: 0.7725    Highest: 3\n",
      "Game 56      Score: 1      Epsilon: 0.7720    Highest: 3\n",
      "Game 57      Score: 2      Epsilon: 0.7715    Highest: 3\n"
     ]
    }
   ],
   "source": [
    "DDQN = True\n",
    "\n",
    "if DDQN is True:\n",
    "\n",
    "    # Name of weights + Initialize DDQN class + run training + evaluate\n",
    "    name_of_weights_DDQN = 'weights_DDQN.h5'\n",
    "    pre_agent = DDQNAgent()\n",
    "    aft_agent, counter_plot, score_plot = run(pre_agent, name_of_weights_DDQN)\n",
    "    aft_eval, counter_plot_eval, score_plot_eval = evaluate_network(aft_agent, name_of_weights_DDQN)\n",
    "else:\n",
    "\n",
    "    # Name of weights + Initialize DQN target class + run training + evaluate\n",
    "    name_of_weights_DQN = 'weights_DQN.h5'\n",
    "    pre_agent = DQNAgent()\n",
    "    aft_agent, counter_plot, score_plot = run(pre_agent, name_of_weights_DDQN)\n",
    "    aft_eval, counter_plot_eval, score_plot_eval = evaluate_network(aft_agent, name_of_weights_DDQN)\n"
   ]
  },
  {
   "cell_type": "code",
   "execution_count": null,
   "metadata": {},
   "outputs": [],
   "source": [
    "aft_agent"
   ]
  },
  {
   "cell_type": "code",
   "execution_count": null,
   "metadata": {},
   "outputs": [],
   "source": []
  }
 ],
 "metadata": {
  "kernelspec": {
   "display_name": "Python 3",
   "language": "python",
   "name": "python3"
  },
  "language_info": {
   "codemirror_mode": {
    "name": "ipython",
    "version": 3
   },
   "file_extension": ".py",
   "mimetype": "text/x-python",
   "name": "python",
   "nbconvert_exporter": "python",
   "pygments_lexer": "ipython3",
   "version": "3.6.6"
  }
 },
 "nbformat": 4,
 "nbformat_minor": 2
}
